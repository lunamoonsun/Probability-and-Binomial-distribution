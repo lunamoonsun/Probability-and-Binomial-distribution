{
 "cells": [
  {
   "cell_type": "markdown",
   "id": "8fd188d8",
   "metadata": {},
   "source": [
    "# Probabilidade - Distribuição Binomial "
   ]
  },
  {
   "cell_type": "code",
   "execution_count": 5,
   "id": "c4c34e34",
   "metadata": {},
   "outputs": [],
   "source": [
    "import math\n",
    "from scipy import stats"
   ]
  },
  {
   "cell_type": "markdown",
   "id": "f0a2d5ee",
   "metadata": {},
   "source": [
    "Vamos analisar dados do tipo distribuição binomial - Tipo de dado: numéricas discretas "
   ]
  },
  {
   "cell_type": "markdown",
   "id": "3d07e71e",
   "metadata": {},
   "source": [
    "Para realizar cálculos de inferencia de probabilidade é importante ter respostas de sucesso ou fracasso e experimentos independentes. "
   ]
  },
  {
   "cell_type": "markdown",
   "id": "7760b888",
   "metadata": {},
   "source": [
    "O exp 1 não influencia no exp 2. Eventos independentes."
   ]
  },
  {
   "cell_type": "markdown",
   "id": "0e2de1ee",
   "metadata": {},
   "source": [
    "Probabilidade de selecionar \"coroa\" 5 vezes:\n",
    "Parâmetros:\n",
    "- X = 5 (numero de sucessos)\n",
    "- p = 0.5 (probabilidade de sucesso)\n",
    "- n = 10 (quantidade de tentativas - trials)"
   ]
  },
  {
   "cell_type": "markdown",
   "id": "55036ea0",
   "metadata": {},
   "source": [
    "- Jogando a moeda 10 vezes, qual a probabilidade de obter \"5 caras\"?"
   ]
  },
  {
   "cell_type": "code",
   "execution_count": 2,
   "id": "2094e826",
   "metadata": {},
   "outputs": [],
   "source": [
    "n = 10\n",
    "x = 5\n",
    "p = 0.5"
   ]
  },
  {
   "cell_type": "code",
   "execution_count": 4,
   "id": "2b225d75",
   "metadata": {},
   "outputs": [
    {
     "data": {
      "text/plain": [
       "0.24609375"
      ]
     },
     "execution_count": 4,
     "metadata": {},
     "output_type": "execute_result"
    }
   ],
   "source": [
    "(math.factorial(n))/(math.factorial(x) * math.factorial(n-x)) * math.pow(p, x) * math.pow(1-p, n-x)"
   ]
  },
  {
   "cell_type": "markdown",
   "id": "a41308a6",
   "metadata": {},
   "source": [
    "Jogando 10 vezes, a probabilidade de obter cara 5 vezes é: aproximadamente 25%"
   ]
  },
  {
   "cell_type": "code",
   "execution_count": 6,
   "id": "be4e5eae",
   "metadata": {},
   "outputs": [
    {
     "data": {
      "text/plain": [
       "0.24609375000000025"
      ]
     },
     "execution_count": 6,
     "metadata": {},
     "output_type": "execute_result"
    }
   ],
   "source": [
    "stats.binom.pmf(x, n, p) # Retorna o mesmo resultado"
   ]
  },
  {
   "cell_type": "code",
   "execution_count": 7,
   "id": "e81942a5",
   "metadata": {},
   "outputs": [],
   "source": [
    "# Dessa forma, é possivel aprender o cálculo de probabilidade utilizando a distribuição binomial"
   ]
  },
  {
   "cell_type": "markdown",
   "id": "0c4b3259",
   "metadata": {},
   "source": [
    "## Exercícios "
   ]
  },
  {
   "cell_type": "markdown",
   "id": "91d88b8f",
   "metadata": {},
   "source": [
    " 1 - 70% das pessoas que compraram o livro Python são mulheres. Se 10 leitores forem selecionados aleatoriamente, qual a probabilidade de selecionarmos 7 mulheres?"
   ]
  },
  {
   "cell_type": "code",
   "execution_count": 8,
   "id": "72bcae63",
   "metadata": {},
   "outputs": [],
   "source": [
    "n = 10\n",
    "x = 7\n",
    "p = 0.7"
   ]
  },
  {
   "cell_type": "code",
   "execution_count": 9,
   "id": "7fb2c237",
   "metadata": {},
   "outputs": [
    {
     "data": {
      "text/plain": [
       "0.26682793200000016"
      ]
     },
     "execution_count": 9,
     "metadata": {},
     "output_type": "execute_result"
    }
   ],
   "source": [
    "stats.binom.pmf(x,n,p)"
   ]
  },
  {
   "cell_type": "markdown",
   "id": "b463369f",
   "metadata": {},
   "source": [
    "Logo, a probabilidade de selecionar 7 mulheres é de 26% aproximadamente."
   ]
  },
  {
   "cell_type": "markdown",
   "id": "212b5414",
   "metadata": {},
   "source": [
    "2 - Em uma linha de produção de uma fábrica de parafusos, a probabilidade de obter um parafuso defeituoso é 0.05. Tendo uma amostra de 50 peças, qual a probabilidade de obter:\n",
    "- Um parafuso defeituoso\n",
    "- Nenhum parafuso defeituoso"
   ]
  },
  {
   "cell_type": "markdown",
   "id": "d1c354bf",
   "metadata": {},
   "source": [
    "Um parafuso defeituoso:"
   ]
  },
  {
   "cell_type": "code",
   "execution_count": 10,
   "id": "6ebd907c",
   "metadata": {},
   "outputs": [],
   "source": [
    "p = 0.05\n",
    "n = 50\n",
    "x = 1"
   ]
  },
  {
   "cell_type": "code",
   "execution_count": 11,
   "id": "2f5ea2d1",
   "metadata": {},
   "outputs": [
    {
     "data": {
      "text/plain": [
       "0.20248677704398393"
      ]
     },
     "execution_count": 11,
     "metadata": {},
     "output_type": "execute_result"
    }
   ],
   "source": [
    "stats.binom.pmf(x,n,p)"
   ]
  },
  {
   "cell_type": "markdown",
   "id": "d64facfe",
   "metadata": {},
   "source": [
    "Logo a probabilidade de selecionar um parafuso defeituoso é de 20% aproximadamente."
   ]
  },
  {
   "cell_type": "markdown",
   "id": "8607462d",
   "metadata": {},
   "source": [
    "Nenhum parafuso defeituoso:"
   ]
  },
  {
   "cell_type": "code",
   "execution_count": 12,
   "id": "5c6b0bad",
   "metadata": {},
   "outputs": [],
   "source": [
    "n = 50\n",
    "x = 0\n",
    "p = 0.05"
   ]
  },
  {
   "cell_type": "code",
   "execution_count": 13,
   "id": "6a4528b1",
   "metadata": {},
   "outputs": [
    {
     "data": {
      "text/plain": [
       "0.0769449752767133"
      ]
     },
     "execution_count": 13,
     "metadata": {},
     "output_type": "execute_result"
    }
   ],
   "source": [
    "stats.binom.pmf(x, n, p)"
   ]
  },
  {
   "cell_type": "markdown",
   "id": "3e458b64",
   "metadata": {},
   "source": [
    "Logo, a probabilidade de encontrar nenhum parafuso defeituoso é de 7% aproximadamente."
   ]
  },
  {
   "cell_type": "code",
   "execution_count": null,
   "id": "cc41a404",
   "metadata": {},
   "outputs": [],
   "source": []
  }
 ],
 "metadata": {
  "kernelspec": {
   "display_name": "Python 3",
   "language": "python",
   "name": "python3"
  },
  "language_info": {
   "codemirror_mode": {
    "name": "ipython",
    "version": 3
   },
   "file_extension": ".py",
   "mimetype": "text/x-python",
   "name": "python",
   "nbconvert_exporter": "python",
   "pygments_lexer": "ipython3",
   "version": "3.8.8"
  }
 },
 "nbformat": 4,
 "nbformat_minor": 5
}
